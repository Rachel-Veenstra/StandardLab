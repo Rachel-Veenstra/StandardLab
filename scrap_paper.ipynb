{
 "cells": [
  {
   "cell_type": "code",
   "execution_count": 2,
   "metadata": {},
   "outputs": [],
   "source": [
    "import pandas as pd\n",
    "import numpy as np\n",
    "import glob\n",
    "path = str(glob.os.getcwd())\n",
    "\n",
    "user = path.split('\\\\')[2]\n",
    "\n",
    "folder = \"Student_Lists\"\n",
    "\n",
    "data_files = '/Users/' + user + '/Desktop/Coding/StandardLab/' + folder\n",
    "\n",
    "glob.os.chdir(data_files)\n",
    "\n",
    "#all_data_files = glob.glob(data_files + \"/*.csv\")\n",
    "\n",
    "id_data = pd.read_csv('MR_USB.csv', header=None)\n",
    "id_data.head(5)\n",
    "template = id_data.loc[np.repeat(id_data.index.values, 2)]"
   ]
  },
  {
   "cell_type": "code",
   "execution_count": 7,
   "metadata": {},
   "outputs": [
    {
     "ename": "SyntaxError",
     "evalue": "invalid syntax (<ipython-input-7-4c074267d923>, line 3)",
     "output_type": "error",
     "traceback": [
      "\u001b[1;36m  File \u001b[1;32m\"<ipython-input-7-4c074267d923>\"\u001b[1;36m, line \u001b[1;32m3\u001b[0m\n\u001b[1;33m    print('Creating ' + str(len(template)/samp_set)) + ' lab sheets.')\u001b[0m\n\u001b[1;37m                                                                     ^\u001b[0m\n\u001b[1;31mSyntaxError\u001b[0m\u001b[1;31m:\u001b[0m invalid syntax\n"
     ]
    }
   ],
   "source": [
    "# Creating subsets based on set#\n",
    "samp_set = int(input('How many SAMPLES do you wish to run per set?'))\n",
    "print('Creating ' + str(len(template)/samp_set)) + ' lab sheets.')\n",
    "print(template[0:(samp_set)])\n",
    "print(template[(samp_set + 1) :(samp_set + 1) + samp_set])"
   ]
  }
 ],
 "metadata": {
  "kernelspec": {
   "display_name": "Python 3",
   "language": "python",
   "name": "python3"
  },
  "language_info": {
   "codemirror_mode": {
    "name": "ipython",
    "version": 3
   },
   "file_extension": ".py",
   "mimetype": "text/x-python",
   "name": "python",
   "nbconvert_exporter": "python",
   "pygments_lexer": "ipython3",
   "version": "3.7.1"
  }
 },
 "nbformat": 4,
 "nbformat_minor": 2
}
