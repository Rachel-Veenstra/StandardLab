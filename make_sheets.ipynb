{
 "cells": [
  {
   "cell_type": "code",
   "execution_count": 132,
   "metadata": {},
   "outputs": [],
   "source": [
    "# importing packages\n",
    "import pandas as pd\n",
    "import numpy as np\n",
    "import glob"
   ]
  },
  {
   "cell_type": "code",
   "execution_count": 134,
   "metadata": {},
   "outputs": [
    {
     "data": {
      "text/html": [
       "<div>\n",
       "<style scoped>\n",
       "    .dataframe tbody tr th:only-of-type {\n",
       "        vertical-align: middle;\n",
       "    }\n",
       "\n",
       "    .dataframe tbody tr th {\n",
       "        vertical-align: top;\n",
       "    }\n",
       "\n",
       "    .dataframe thead th {\n",
       "        text-align: right;\n",
       "    }\n",
       "</style>\n",
       "<table border=\"1\" class=\"dataframe\">\n",
       "  <thead>\n",
       "    <tr style=\"text-align: right;\">\n",
       "      <th></th>\n",
       "      <th>0</th>\n",
       "    </tr>\n",
       "  </thead>\n",
       "  <tbody>\n",
       "    <tr>\n",
       "      <th>0</th>\n",
       "      <td>MR_USB_001</td>\n",
       "    </tr>\n",
       "    <tr>\n",
       "      <th>1</th>\n",
       "      <td>MR_USB_002</td>\n",
       "    </tr>\n",
       "    <tr>\n",
       "      <th>2</th>\n",
       "      <td>MR_USB_003</td>\n",
       "    </tr>\n",
       "    <tr>\n",
       "      <th>3</th>\n",
       "      <td>MR_USB_004</td>\n",
       "    </tr>\n",
       "    <tr>\n",
       "      <th>4</th>\n",
       "      <td>MR_USB_005</td>\n",
       "    </tr>\n",
       "  </tbody>\n",
       "</table>\n",
       "</div>"
      ],
      "text/plain": [
       "            0\n",
       "0  MR_USB_001\n",
       "1  MR_USB_002\n",
       "2  MR_USB_003\n",
       "3  MR_USB_004\n",
       "4  MR_USB_005"
      ]
     },
     "execution_count": 134,
     "metadata": {},
     "output_type": "execute_result"
    }
   ],
   "source": [
    "# importing data\n",
    "path = str(glob.os.getcwd())\n",
    "\n",
    "user = path.split('\\\\')[2]\n",
    "\n",
    "folder = \"Student_Lists\"\n",
    "\n",
    "data_files = '/Users/' + user + '/Desktop/Coding/StandardLab/' + folder\n",
    "\n",
    "glob.os.chdir(data_files)\n",
    "\n",
    "#all_data_files = glob.glob(data_files + \"/*.csv\")\n",
    "\n",
    "id_data = pd.read_csv('MR_USB.csv', header=None)\n",
    "id_data.head(5)"
   ]
  },
  {
   "cell_type": "code",
   "execution_count": 128,
   "metadata": {},
   "outputs": [],
   "source": [
    "# duplicating values for multiple sample runs\n",
    "template = id_data.loc[np.repeat(id_data.index.values, 2)]\n",
    "\n",
    "#### need to create subsets based on # of samples to run!!!!!!!!\n",
    "\n",
    "nit_id_data = template\n",
    "ure_id_data = template"
   ]
  },
  {
   "cell_type": "code",
   "execution_count": null,
   "metadata": {},
   "outputs": [],
   "source": [
    "# Adding rows for blanks, etc. in nitrate template\n",
    "ntop = []\n",
    "\n",
    "ntop.insert(0, 4500.00)\n",
    "ntop.insert(0, 4500.00)\n",
    "ntop.insert(0, 4500.00)\n",
    "ntop.insert(0, 3000.00)\n",
    "ntop.insert(0, 3000.00)\n",
    "ntop.insert(0, 3000.00)\n",
    "ntop.insert(0, 1500.00)\n",
    "ntop.insert(0, 1500.00)\n",
    "ntop.insert(0, 1500.00)\n",
    "ntop.insert(0, 0.00)\n",
    "ntop.insert(0, 0.00)\n",
    "ntop.insert(0, 0.00)\n",
    "ntop.insert(0, '2_2')\n",
    "ntop.insert(0, '2_1')\n",
    "ntop.insert(0, '1_2')\n",
    "ntop.insert(0, '1_1')\n",
    "\n",
    "nit_id_data = pd.concat([pd.DataFrame(ntop), nit_id_data], ignore_index = True)\n",
    "nit_id_data"
   ]
  },
  {
   "cell_type": "code",
   "execution_count": null,
   "metadata": {},
   "outputs": [],
   "source": [
    "utop = []\n",
    "\n",
    "utop.insert(0, 4396.660764)\n",
    "utop.insert(0, 4396.660764)\n",
    "utop.insert(0, 4396.660764)\n",
    "utop.insert(0, 1099.165191)\n",
    "utop.insert(0, 1099.165191)\n",
    "utop.insert(0, 1099.165191)\n",
    "utop.insert(0, 549.5825955)\n",
    "utop.insert(0, 549.5825955)\n",
    "utop.insert(0, 549.5825955)\n",
    "utop.insert(0, 0.00)\n",
    "utop.insert(0, 0.00)\n",
    "utop.insert(0, 0.00)\n",
    "utop.insert(0, '2_2')\n",
    "utop.insert(0, '2_1')\n",
    "utop.insert(0, '1_2')\n",
    "utop.insert(0, '1_1')\n",
    "\n",
    "ure_id_data = pd.concat([pd.DataFrame(utop), ure_id_data], ignore_index = True)\n",
    "ure_id_data"
   ]
  },
  {
   "cell_type": "code",
   "execution_count": null,
   "metadata": {},
   "outputs": [],
   "source": [
    "# adding template columns\n",
    "nit_id_data['type'] = ''\n",
    "nit_id_data['sample_wt'] = ''\n",
    "nit_id_data['absorb'] = ''\n",
    "nit_id_data = nit_id_data[['type', 'sample_wt', 0, 'absorb']]\n",
    "nit_id_data.columns = ['type', 'sample_wt', 'sample_id', 'absorb']\n",
    "nit_id_data"
   ]
  },
  {
   "cell_type": "code",
   "execution_count": null,
   "metadata": {},
   "outputs": [],
   "source": [
    "ure_id_data['type'] = ''\n",
    "ure_id_data['sample_wt'] = ''\n",
    "ure_id_data['absorb'] = ''\n",
    "ure_id_data = ure_id_data[['type', 'sample_wt', 0, 'absorb']]\n",
    "ure_id_data.columns = ['type', 'sample_wt', 'sample_id', 'absorb']\n",
    "ure_id_data"
   ]
  },
  {
   "cell_type": "code",
   "execution_count": null,
   "metadata": {},
   "outputs": [],
   "source": [
    "# adding rows for blanks and standards\n",
    "template"
   ]
  }
 ],
 "metadata": {
  "kernelspec": {
   "display_name": "Python 3",
   "language": "python",
   "name": "python3"
  },
  "language_info": {
   "codemirror_mode": {
    "name": "ipython",
    "version": 3
   },
   "file_extension": ".py",
   "mimetype": "text/x-python",
   "name": "python",
   "nbconvert_exporter": "python",
   "pygments_lexer": "ipython3",
   "version": "3.7.1"
  }
 },
 "nbformat": 4,
 "nbformat_minor": 2
}
